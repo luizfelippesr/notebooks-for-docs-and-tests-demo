{
 "cells": [
  {
   "cell_type": "markdown",
   "id": "86406cc0-a5f9-448b-a0c3-86202c82af61",
   "metadata": {},
   "source": [
    "# Tutorial\n",
    "\n",
    "This demonstrates how to use the `DeepThought` class to deal with your personal  philosofical issues.\n",
    "\n",
    "## Initial steps\n",
    "\n",
    "First, let us import the what we need."
   ]
  },
  {
   "cell_type": "code",
   "execution_count": null,
   "id": "8443e9fd-b89f-437e-81da-bedad5ca0740",
   "metadata": {},
   "outputs": [],
   "source": [
    "import sys\n",
    "sys.path.append('../src')\n",
    "\n",
    "from features import computer"
   ]
  },
  {
   "cell_type": "markdown",
   "id": "65539619-073f-4ba9-b731-89b0f4fb6112",
   "metadata": {},
   "source": [
    "We will be using an instance of the special computer named `DeepThought`"
   ]
  },
  {
   "cell_type": "code",
   "execution_count": null,
   "id": "647fbea5-6647-476a-ab74-1002082bc30d",
   "metadata": {},
   "outputs": [],
   "source": [
    "thinker = computer.DeepThought()"
   ]
  },
  {
   "cell_type": "markdown",
   "id": "cff4f40b-3624-4e49-9dd2-a398f51876c6",
   "metadata": {},
   "source": [
    "## Finding the answer \n",
    "\n",
    "The answer for \"Ultimate Question of Life, the Universe, and Everything\" can be easily computed."
   ]
  },
  {
   "cell_type": "code",
   "execution_count": null,
   "id": "9ed4f647-72aa-4c88-8970-dcd0ba5d3d12",
   "metadata": {},
   "outputs": [],
   "source": [
    "thinker.get_the_answer()"
   ]
  },
  {
   "cell_type": "markdown",
   "id": "c1aad4e1-0afc-492d-b8fc-b0bcd50af070",
   "metadata": {},
   "source": [
    "## Finding the question\n",
    "\n",
    "The frustrating thing about finding the answer to \"Ultimate Question of Life, the Universe, and Everything\" is that \"the Question\" is actually a harder problem. \n",
    "\n",
    "### For those in a hurry\n",
    "\n",
    "If you don't too much time in your hands, you can get away with \"a question\" (which may or may not be the right one). This can be done using the following method:"
   ]
  },
  {
   "cell_type": "code",
   "execution_count": null,
   "id": "54d58c13-5c11-4fce-aa83-325281b7b398",
   "metadata": {},
   "outputs": [],
   "source": [
    "thinker.get_a_question()"
   ]
  },
  {
   "cell_type": "markdown",
   "id": "8c09c69c-2e7f-463a-9193-f475b73bad6f",
   "metadata": {},
   "source": [
    "Note that this may change if re-executed..."
   ]
  },
  {
   "cell_type": "code",
   "execution_count": null,
   "id": "a71ee452-890f-4708-a883-ca2a19e81851",
   "metadata": {},
   "outputs": [],
   "source": [
    "thinker.get_a_question()"
   ]
  },
  {
   "cell_type": "markdown",
   "id": "cfe97999-69da-4285-a0b0-334a0f84ccd3",
   "metadata": {},
   "source": [
    "### For those with time\n",
    "\n",
    "You may want to execute the following command to get a definite answer..."
   ]
  },
  {
   "cell_type": "code",
   "execution_count": null,
   "id": "fdc38247-5ec3-4df8-98b0-cd884954310d",
   "metadata": {},
   "outputs": [],
   "source": [
    "thinker.get_the_question()"
   ]
  },
  {
   "cell_type": "markdown",
   "id": "d7b8b9a9-b98f-4112-ad96-5bf860a4d8b7",
   "metadata": {},
   "source": [
    "The above execution was interrupted due to the demo's time constraints."
   ]
  }
 ],
 "metadata": {
  "kernelspec": {
   "display_name": "Python 3",
   "language": "python",
   "name": "python3"
  },
  "language_info": {
   "codemirror_mode": {
    "name": "ipython",
    "version": 3
   },
   "file_extension": ".py",
   "mimetype": "text/x-python",
   "name": "python",
   "nbconvert_exporter": "python",
   "pygments_lexer": "ipython3",
   "version": "3.8.3"
  }
 },
 "nbformat": 4,
 "nbformat_minor": 5
}
