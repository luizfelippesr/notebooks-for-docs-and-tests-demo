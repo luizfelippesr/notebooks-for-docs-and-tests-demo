{
 "cells": [
  {
   "cell_type": "markdown",
   "id": "86406cc0-a5f9-448b-a0c3-86202c82af61",
   "metadata": {},
   "source": [
    "# Tutorial\n",
    "\n",
    "This demonstrates how to use the `DeepThought` class to deal with your personal  philosophical issues.\n",
    "\n",
    "## Initial steps\n",
    "\n",
    "First, let us import the what we need."
   ]
  },
  {
   "cell_type": "code",
   "execution_count": 1,
   "id": "8443e9fd-b89f-437e-81da-bedad5ca0740",
   "metadata": {},
   "outputs": [],
   "source": [
    "import sys\n",
    "sys.path.append('../src')\n",
    "\n",
    "from features import computer"
   ]
  },
  {
   "cell_type": "markdown",
   "id": "65539619-073f-4ba9-b731-89b0f4fb6112",
   "metadata": {},
   "source": [
    "We will be using an instance of the special computer named `DeepThought`"
   ]
  },
  {
   "cell_type": "code",
   "execution_count": 2,
   "id": "647fbea5-6647-476a-ab74-1002082bc30d",
   "metadata": {},
   "outputs": [],
   "source": [
    "thinker = computer.DeepThought()"
   ]
  },
  {
   "cell_type": "markdown",
   "id": "cff4f40b-3624-4e49-9dd2-a398f51876c6",
   "metadata": {},
   "source": [
    "## Finding the answer \n",
    "\n",
    "The answer for \"Ultimate Question of Life, the Universe, and Everything\" can be easily computed."
   ]
  },
  {
   "cell_type": "code",
   "execution_count": 3,
   "id": "9ed4f647-72aa-4c88-8970-dcd0ba5d3d12",
   "metadata": {},
   "outputs": [
    {
     "data": {
      "text/plain": [
       "42"
      ]
     },
     "execution_count": 3,
     "metadata": {},
     "output_type": "execute_result"
    }
   ],
   "source": [
    "thinker.get_the_answer()"
   ]
  },
  {
   "cell_type": "markdown",
   "id": "c1aad4e1-0afc-492d-b8fc-b0bcd50af070",
   "metadata": {},
   "source": [
    "## Finding the question\n",
    "\n",
    "The frustrating thing about finding the answer to \"Ultimate Question of Life, the Universe, and Everything\" is that \"the Question\" is actually a harder problem. \n",
    "\n",
    "### For those in a hurry\n",
    "\n",
    "If you don't too much time in your hands, you can get away with \"a question\" (which may or may not be the right one). This can be done using the following method:"
   ]
  },
  {
   "cell_type": "code",
   "execution_count": 4,
   "id": "54d58c13-5c11-4fce-aa83-325281b7b398",
   "metadata": {
    "tags": [
     "nbval-ignore-output"
    ]
   },
   "outputs": [
    {
     "data": {
      "text/plain": [
       "'What do you get if you multiply six by nine?'"
      ]
     },
     "execution_count": 4,
     "metadata": {},
     "output_type": "execute_result"
    }
   ],
   "source": [
    "thinker.get_a_question()"
   ]
  },
  {
   "cell_type": "markdown",
   "id": "8c09c69c-2e7f-463a-9193-f475b73bad6f",
   "metadata": {},
   "source": [
    "Note that this may change if re-executed... *therefore, we added the tag: `nbval-ignore-output` to it*"
   ]
  },
  {
   "cell_type": "code",
   "execution_count": 5,
   "id": "a71ee452-890f-4708-a883-ca2a19e81851",
   "metadata": {
    "tags": [
     "nbval-ignore-output"
    ]
   },
   "outputs": [
    {
     "data": {
      "text/plain": [
       "'How many roads must a man walk down?'"
      ]
     },
     "execution_count": 5,
     "metadata": {},
     "output_type": "execute_result"
    }
   ],
   "source": [
    "thinker.get_a_question()"
   ]
  },
  {
   "cell_type": "markdown",
   "id": "cfe97999-69da-4285-a0b0-334a0f84ccd3",
   "metadata": {},
   "source": [
    "### For those with time\n",
    "\n",
    "You may want to execute the following command to get a definite answer..."
   ]
  },
  {
   "cell_type": "code",
   "execution_count": 6,
   "id": "fdc38247-5ec3-4df8-98b0-cd884954310d",
   "metadata": {
    "tags": [
     "nbval-skip"
    ]
   },
   "outputs": [
    {
     "name": "stdout",
     "output_type": "stream",
     "text": [
      "This may take some time...\n",
      "...\n"
     ]
    },
    {
     "ename": "KeyboardInterrupt",
     "evalue": "",
     "output_type": "error",
     "traceback": [
      "\u001b[0;31m---------------------------------------------------------------------------\u001b[0m",
      "\u001b[0;31mKeyboardInterrupt\u001b[0m                         Traceback (most recent call last)",
      "\u001b[0;32m<ipython-input-6-8fb74e69032b>\u001b[0m in \u001b[0;36m<module>\u001b[0;34m\u001b[0m\n\u001b[0;32m----> 1\u001b[0;31m \u001b[0mthinker\u001b[0m\u001b[0;34m.\u001b[0m\u001b[0mget_the_question\u001b[0m\u001b[0;34m(\u001b[0m\u001b[0;34m)\u001b[0m\u001b[0;34m\u001b[0m\u001b[0;34m\u001b[0m\u001b[0m\n\u001b[0m",
      "\u001b[0;32m~/notebooks-for-docs-and-tests-demo/src/features/computer.py\u001b[0m in \u001b[0;36mget_the_question\u001b[0;34m(self)\u001b[0m\n\u001b[1;32m     52\u001b[0m             \u001b[0mprint\u001b[0m\u001b[0;34m(\u001b[0m\u001b[0;34m'This may take some time...'\u001b[0m\u001b[0;34m)\u001b[0m\u001b[0;34m\u001b[0m\u001b[0;34m\u001b[0m\u001b[0m\n\u001b[1;32m     53\u001b[0m             \u001b[0mprint\u001b[0m\u001b[0;34m(\u001b[0m\u001b[0;34m'...'\u001b[0m\u001b[0;34m)\u001b[0m\u001b[0;34m\u001b[0m\u001b[0;34m\u001b[0m\u001b[0m\n\u001b[0;32m---> 54\u001b[0;31m             \u001b[0mtime\u001b[0m\u001b[0;34m.\u001b[0m\u001b[0msleep\u001b[0m\u001b[0;34m(\u001b[0m\u001b[0;36m10\u001b[0m\u001b[0;34m)\u001b[0m\u001b[0;34m\u001b[0m\u001b[0;34m\u001b[0m\u001b[0m\n\u001b[0m\u001b[1;32m     55\u001b[0m \u001b[0;34m\u001b[0m\u001b[0m\n\u001b[1;32m     56\u001b[0m         \u001b[0;32mreturn\u001b[0m \u001b[0mthingy\u001b[0m\u001b[0;34m.\u001b[0m\u001b[0msomething\u001b[0m\u001b[0;34m\u001b[0m\u001b[0;34m\u001b[0m\u001b[0m\n",
      "\u001b[0;31mKeyboardInterrupt\u001b[0m: "
     ]
    }
   ],
   "source": [
    "thinker.get_the_question()"
   ]
  },
  {
   "cell_type": "markdown",
   "id": "d7b8b9a9-b98f-4112-ad96-5bf860a4d8b7",
   "metadata": {},
   "source": [
    "The above execution was interrupted due to the demo's time constraints.\n",
    "\n",
    "*To to prevent it from entering the validation, we added the tag `nbval-skip` to it.*"
   ]
  }
 ],
 "metadata": {
  "kernelspec": {
   "display_name": "Python 3",
   "language": "python",
   "name": "python3"
  },
  "language_info": {
   "codemirror_mode": {
    "name": "ipython",
    "version": 3
   },
   "file_extension": ".py",
   "mimetype": "text/x-python",
   "name": "python",
   "nbconvert_exporter": "python",
   "pygments_lexer": "ipython3",
   "version": "3.8.3"
  }
 },
 "nbformat": 4,
 "nbformat_minor": 5
}
